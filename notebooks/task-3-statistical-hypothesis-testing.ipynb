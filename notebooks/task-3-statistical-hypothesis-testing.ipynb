{
 "cells": [
  {
   "cell_type": "code",
   "execution_count": null,
   "id": "eafbee85",
   "metadata": {},
   "outputs": [],
   "source": [
    "import pandas as pd\n",
    "import numpy as np\n",
    "import matplotlib.pyplot as plt\n",
    "import seaborn as sns\n",
    "from scipy.stats import ttest_ind, chi2_contingency\n",
    "pd.set_option('display.max_columns',200)\n",
    "pd.set_option('display.float_format', '{:,.2f}'.format)\n",
    "sns.set_style(\"whitegrid\")"
   ]
  },
  {
   "cell_type": "code",
   "execution_count": null,
   "id": "37d5a800",
   "metadata": {},
   "outputs": [],
   "source": [
    "df = pd.read_csv('../data/raw/MachineLearningRating_v3.txt', delimiter='|', low_memory=False)"
   ]
  },
  {
   "cell_type": "code",
   "execution_count": null,
   "id": "4034e0e0",
   "metadata": {},
   "outputs": [],
   "source": [
    "df['TotalPremium'] = pd.to_numeric(df['TotalPremium'], errors='coerce')\n",
    "df['TotalClaims'] = pd.to_numeric(df['TotalClaims'], errors='coerce')\n",
    "df['TransactionMonth'] = pd.to_datetime(df['TransactionMonth'], errors='coerce')"
   ]
  },
  {
   "cell_type": "code",
   "execution_count": 11,
   "id": "66db1108",
   "metadata": {},
   "outputs": [],
   "source": [
    "df['ClaimOccurred'] = df['TotalClaims'] > 0\n",
    "df['ClaimSeverity'] = df['TotalClaims'] / df['ClaimOccurred'].replace({False: np.nan})\n",
    "df['Margin'] = df['TotalPremium'] - df['TotalClaims']"
   ]
  },
  {
   "cell_type": "code",
   "execution_count": 14,
   "id": "0931d6f5",
   "metadata": {},
   "outputs": [
    {
     "name": "stdout",
     "output_type": "stream",
     "text": [
      "Chi-squared p-value (Claim Frequency by Province): 5.925510718204677e-19\n"
     ]
    }
   ],
   "source": [
    "province_claims = pd.crosstab(df['Province'], df['ClaimOccurred'])\n",
    "chi2, p, dof, expected = chi2_contingency(province_claims)\n",
    "print(\"Chi-squared p-value (Claim Frequency by Province):\", p)"
   ]
  },
  {
   "cell_type": "code",
   "execution_count": null,
   "id": "da211c89",
   "metadata": {},
   "outputs": [
    {
     "name": "stdout",
     "output_type": "stream",
     "text": [
      "T-test p-value (Claim Severity: Gauteng vs Western Cape): 0.03059896049292002\n"
     ]
    }
   ],
   "source": [
    "# Convert ClaimSeverity to numeric safely\n",
    "df['ClaimSeverity'] = pd.to_numeric(df['ClaimSeverity'], errors='coerce')\n",
    "\n",
    "# Filter the top two provinces by frequency\n",
    "top_provinces = df['Province'].value_counts().nlargest(2).index\n",
    "grouped = df[df['Province'].isin(top_provinces)]\n",
    "\n",
    "# Extract and convert the two groups for testing\n",
    "a = pd.to_numeric(grouped[grouped['Province'] == top_provinces[0]]['ClaimSeverity'], errors='coerce').dropna()\n",
    "b = pd.to_numeric(grouped[grouped['Province'] == top_provinces[1]]['ClaimSeverity'], errors='coerce').dropna()\n",
    "\n",
    "# Now run the t-test\n",
    "from scipy.stats import ttest_ind\n",
    "t_stat, p_val = ttest_ind(a, b, equal_var=False)\n",
    "print(f\"T-test p-value (Claim Severity: {top_provinces[0]} vs {top_provinces[1]}):\", p_val)"
   ]
  }
 ],
 "metadata": {
  "kernelspec": {
   "display_name": "venv",
   "language": "python",
   "name": "python3"
  },
  "language_info": {
   "codemirror_mode": {
    "name": "ipython",
    "version": 3
   },
   "file_extension": ".py",
   "mimetype": "text/x-python",
   "name": "python",
   "nbconvert_exporter": "python",
   "pygments_lexer": "ipython3",
   "version": "3.13.3"
  }
 },
 "nbformat": 4,
 "nbformat_minor": 5
}
